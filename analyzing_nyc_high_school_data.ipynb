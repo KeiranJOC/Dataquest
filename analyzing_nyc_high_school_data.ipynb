{
 "cells": [
  {
   "cell_type": "code",
   "execution_count": 1,
   "metadata": {},
   "outputs": [],
   "source": [
    "# make jupyter display formatted output for multiple variables per cell\n",
    "\n",
    "from IPython.core.interactiveshell import InteractiveShell\n",
    "InteractiveShell.ast_node_interactivity = \"all\""
   ]
  },
  {
   "cell_type": "markdown",
   "metadata": {},
   "source": [
    "This project aims to determine whether the SAT should be considered a fair test, by exploring potential correlations between SAT scores and demographic factors such as race, income and gender. The project will analyse publicly available data published by New York City."
   ]
  },
  {
   "cell_type": "markdown",
   "metadata": {},
   "source": [
    "## Reading in the data"
   ]
  },
  {
   "cell_type": "code",
   "execution_count": 2,
   "metadata": {},
   "outputs": [],
   "source": [
    "import pandas as pd\n",
    "\n",
    "# import csv data and store each dataframe in a dictionary\n",
    "\n",
    "data_files = [\n",
    "    \"ap_2010.csv\",\n",
    "    \"class_size.csv\",\n",
    "    \"demographics.csv\",\n",
    "    \"graduation.csv\",\n",
    "    \"hs_directory.csv\",\n",
    "    \"sat_results.csv\"\n",
    "]\n",
    "\n",
    "data = {}\n",
    "\n",
    "for f in data_files:\n",
    "    d = pd.read_csv('schools/{}'.format(f))\n",
    "    key_name = f.replace('.csv', '')\n",
    "    data[key_name] = d\n",
    "\n",
    "\n",
    "# print(data.keys())    \n",
    "# for k in data.keys():\n",
    "#     data[k].head()\n"
   ]
  },
  {
   "cell_type": "code",
   "execution_count": 3,
   "metadata": {},
   "outputs": [],
   "source": [
    "# import survey text data and concatenate into one dataframe\n",
    "\n",
    "all_survey = pd.read_csv('schools/survey_all.txt',\n",
    "                         delimiter='\\t',\n",
    "                         encoding='windows-1252')\n",
    "\n",
    "d75_survey = pd.read_csv('schools/survey_d75.txt',\n",
    "                         delimiter='\\t',\n",
    "                         encoding='windows-1252')\n",
    "\n",
    "survey = pd.concat([all_survey, d75_survey], axis=0, sort=False)\n",
    "# survey.head()"
   ]
  },
  {
   "cell_type": "code",
   "execution_count": 4,
   "metadata": {},
   "outputs": [],
   "source": [
    "# change 'dbn' to 'DBN' to make consistent with other dataframes\n",
    "\n",
    "survey['DBN'] = survey['dbn']\n",
    "\n",
    "# filter survey dataframe to only keep relevant columns (decide which columns\n",
    "# by referring to accompanying data dictionary), then add to dictionary\n",
    "\n",
    "survey_fields = [\n",
    "    'DBN',\n",
    "    'rr_s',\n",
    "    'rr_t',\n",
    "    'rr_p',\n",
    "    'N_s',\n",
    "    'N_t',\n",
    "    'N_p',\n",
    "    'saf_p_11',\n",
    "    'com_p_11',\n",
    "    'eng_p_11',\n",
    "    'aca_p_11',\n",
    "    'saf_t_11',\n",
    "    'com_t_11',\n",
    "    'eng_t_11',\n",
    "    'aca_t_11',\n",
    "    'saf_s_11',\n",
    "    'com_s_11',\n",
    "    'eng_s_11',\n",
    "    'aca_s_11',\n",
    "    'saf_tot_11',\n",
    "    'com_tot_11',\n",
    "    'eng_tot_11',\n",
    "    'aca_tot_11'\n",
    "]\n",
    "\n",
    "survey = survey[survey_fields]\n",
    "data['survey'] = survey\n",
    "# data['survey']"
   ]
  },
  {
   "cell_type": "markdown",
   "metadata": {},
   "source": [
    "## Adding DBN columns"
   ]
  },
  {
   "cell_type": "markdown",
   "metadata": {},
   "source": [
    "Make sure all dataframes have a `DBN` column with consistent formatting on which they can be combined."
   ]
  },
  {
   "cell_type": "code",
   "execution_count": 5,
   "metadata": {},
   "outputs": [],
   "source": [
    "data['hs_directory']['DBN'] = data['hs_directory']['dbn']\n",
    "\n",
    "# in 'class_size' dataframe, DBN can be created by joining 'CSD' with 'SCHOOL CODE'.\n",
    "# CSD must be two digits in order to form valid DBN\n",
    "\n",
    "data['class_size']['padded_csd'] = data['class_size']['CSD'].apply(\n",
    "    lambda csd: str(csd).zfill(2) if len(str(csd)) < 2 else str(csd))\n",
    "\n",
    "data['class_size']['DBN'] = data['class_size']['padded_csd'] + data['class_size']['SCHOOL CODE']\n",
    "# data['class_size'].head()"
   ]
  },
  {
   "cell_type": "markdown",
   "metadata": {},
   "source": [
    "## Converting columns to numeric format"
   ]
  },
  {
   "cell_type": "markdown",
   "metadata": {},
   "source": [
    "Convert SAT scores to numeric format and condense into a single value to make finding correlations easier."
   ]
  },
  {
   "cell_type": "code",
   "execution_count": 6,
   "metadata": {},
   "outputs": [],
   "source": [
    "cols = [\n",
    "    'SAT Math Avg. Score', \n",
    "    'SAT Critical Reading Avg. Score', \n",
    "    'SAT Writing Avg. Score'\n",
    "]\n",
    "\n",
    "for c in cols:\n",
    "    data['sat_results'][c] = pd.to_numeric(data['sat_results'][c], errors='coerce')\n",
    "    \n",
    "data['sat_results']['sat_score'] = data['sat_results'][cols[0]] + data['sat_results'][cols[1]] + data['sat_results'][cols[2]]\n",
    "# data['sat_results']['sat_score'].head()"
   ]
  },
  {
   "cell_type": "markdown",
   "metadata": {},
   "source": [
    "Parse geographic coordinates for each school, so that they can be mapped to reveal any geographic patterns."
   ]
  },
  {
   "cell_type": "code",
   "execution_count": 7,
   "metadata": {},
   "outputs": [],
   "source": [
    "import re\n",
    "\n",
    "def extract_latitude(location):\n",
    "    coordinates = re.findall('\\(.+\\)', location)\n",
    "    latitude = coordinates[0].split(',')[0].replace('(', '')\n",
    "    return latitude\n",
    "\n",
    "def extract_longitude(location):\n",
    "    coordinates = re.findall('\\(.+\\)', location)\n",
    "    longitude = coordinates[0].split(',')[1].replace(')', '')\n",
    "    return longitude\n",
    "\n",
    "data['hs_directory']['lat'] = data['hs_directory']['Location 1'].apply(extract_latitude)\n",
    "data['hs_directory']['lon'] = data['hs_directory']['Location 1'].apply(extract_longitude)\n",
    "\n",
    "data['hs_directory']['lat'] = pd.to_numeric(data['hs_directory']['lat'], errors='coerce')\n",
    "data['hs_directory']['lon'] = pd.to_numeric(data['hs_directory']['lon'], errors='coerce')\n",
    "\n",
    "# data['hs_directory'].head()"
   ]
  },
  {
   "cell_type": "markdown",
   "metadata": {},
   "source": [
    "## Condensing datasets"
   ]
  },
  {
   "cell_type": "markdown",
   "metadata": {},
   "source": [
    "We want to have only one row for each school in the `class_size` dataframe, so retain only the rows where `GRADE` == `09-12` and `PROGRAM TYPE` == `GEN ED`, as we are only interested in high school students, and `GEN ED` is the largest category."
   ]
  },
  {
   "cell_type": "code",
   "execution_count": 8,
   "metadata": {},
   "outputs": [],
   "source": [
    "class_size = data['class_size']\n",
    "class_size = class_size[class_size['GRADE '] == '09-12']\n",
    "class_size = class_size[class_size['PROGRAM TYPE'] == 'GEN ED']\n",
    "# class_size.head()"
   ]
  },
  {
   "cell_type": "code",
   "execution_count": 9,
   "metadata": {},
   "outputs": [],
   "source": [
    "import numpy as np\n",
    "\n",
    "# calculate the average class size values for each school so that it only appears once in the dataframe\n",
    "\n",
    "class_size = class_size.groupby('DBN').agg(np.mean)\n",
    "class_size.reset_index(inplace=True)\n",
    "data['class_size'] = class_size\n",
    "# data['class_size'].head()\n",
    "\n",
    "# keep the rows with the most recent data\n",
    "\n",
    "data['demographics'] = data['demographics'][data['demographics']['schoolyear'] == 20112012]\n",
    "# data['demographics'].head()\n",
    "\n",
    "# keep the rows with the most recent data and the highest amount of students\n",
    "\n",
    "data['graduation'] = data['graduation'][data['graduation']['Cohort'] == '2006']\n",
    "data['graduation'] = data['graduation'][data['graduation']['Demographic'] == 'Total Cohort']\n",
    "# data['graduation'].head()"
   ]
  },
  {
   "cell_type": "markdown",
   "metadata": {},
   "source": [
    "## Converting AP scores to numeric format"
   ]
  },
  {
   "cell_type": "code",
   "execution_count": 10,
   "metadata": {},
   "outputs": [],
   "source": [
    "cols = [\n",
    "    'AP Test Takers ', \n",
    "    'Total Exams Taken', \n",
    "    'Number of Exams with scores 3 4 or 5'\n",
    "]\n",
    "\n",
    "for c in cols:\n",
    "    data['ap_2010'][c] = pd.to_numeric(data['ap_2010'][c], errors='coerce')"
   ]
  },
  {
   "cell_type": "markdown",
   "metadata": {},
   "source": [
    "## Combining the datasets"
   ]
  },
  {
   "cell_type": "code",
   "execution_count": 11,
   "metadata": {},
   "outputs": [
    {
     "data": {
      "text/html": [
       "<div>\n",
       "<style scoped>\n",
       "    .dataframe tbody tr th:only-of-type {\n",
       "        vertical-align: middle;\n",
       "    }\n",
       "\n",
       "    .dataframe tbody tr th {\n",
       "        vertical-align: top;\n",
       "    }\n",
       "\n",
       "    .dataframe thead th {\n",
       "        text-align: right;\n",
       "    }\n",
       "</style>\n",
       "<table border=\"1\" class=\"dataframe\">\n",
       "  <thead>\n",
       "    <tr style=\"text-align: right;\">\n",
       "      <th></th>\n",
       "      <th>DBN</th>\n",
       "      <th>SCHOOL NAME</th>\n",
       "      <th>Num of SAT Test Takers</th>\n",
       "      <th>SAT Critical Reading Avg. Score</th>\n",
       "      <th>SAT Math Avg. Score</th>\n",
       "      <th>SAT Writing Avg. Score</th>\n",
       "      <th>sat_score</th>\n",
       "      <th>SchoolName</th>\n",
       "      <th>AP Test Takers</th>\n",
       "      <th>Total Exams Taken</th>\n",
       "      <th>...</th>\n",
       "      <th>priority04</th>\n",
       "      <th>priority05</th>\n",
       "      <th>priority06</th>\n",
       "      <th>priority07</th>\n",
       "      <th>priority08</th>\n",
       "      <th>priority09</th>\n",
       "      <th>priority10</th>\n",
       "      <th>Location 1</th>\n",
       "      <th>lat</th>\n",
       "      <th>lon</th>\n",
       "    </tr>\n",
       "  </thead>\n",
       "  <tbody>\n",
       "    <tr>\n",
       "      <th>0</th>\n",
       "      <td>01M292</td>\n",
       "      <td>HENRY STREET SCHOOL FOR INTERNATIONAL STUDIES</td>\n",
       "      <td>29</td>\n",
       "      <td>355.0</td>\n",
       "      <td>404.0</td>\n",
       "      <td>363.0</td>\n",
       "      <td>1122.0</td>\n",
       "      <td>0</td>\n",
       "      <td>129.028846</td>\n",
       "      <td>197.038462</td>\n",
       "      <td>...</td>\n",
       "      <td>Then to Manhattan students or residents</td>\n",
       "      <td>Then to New York City residents</td>\n",
       "      <td>0</td>\n",
       "      <td>0</td>\n",
       "      <td>0</td>\n",
       "      <td>0</td>\n",
       "      <td>0</td>\n",
       "      <td>220 Henry Street\\nNew York, NY 10002\\n(40.7137...</td>\n",
       "      <td>40.713764</td>\n",
       "      <td>-73.985260</td>\n",
       "    </tr>\n",
       "    <tr>\n",
       "      <th>1</th>\n",
       "      <td>01M448</td>\n",
       "      <td>UNIVERSITY NEIGHBORHOOD HIGH SCHOOL</td>\n",
       "      <td>91</td>\n",
       "      <td>383.0</td>\n",
       "      <td>423.0</td>\n",
       "      <td>366.0</td>\n",
       "      <td>1172.0</td>\n",
       "      <td>UNIVERSITY NEIGHBORHOOD H.S.</td>\n",
       "      <td>39.000000</td>\n",
       "      <td>49.000000</td>\n",
       "      <td>...</td>\n",
       "      <td>0</td>\n",
       "      <td>0</td>\n",
       "      <td>0</td>\n",
       "      <td>0</td>\n",
       "      <td>0</td>\n",
       "      <td>0</td>\n",
       "      <td>0</td>\n",
       "      <td>200 Monroe Street\\nNew York, NY 10002\\n(40.712...</td>\n",
       "      <td>40.712332</td>\n",
       "      <td>-73.984797</td>\n",
       "    </tr>\n",
       "    <tr>\n",
       "      <th>2</th>\n",
       "      <td>01M450</td>\n",
       "      <td>EAST SIDE COMMUNITY SCHOOL</td>\n",
       "      <td>70</td>\n",
       "      <td>377.0</td>\n",
       "      <td>402.0</td>\n",
       "      <td>370.0</td>\n",
       "      <td>1149.0</td>\n",
       "      <td>EAST SIDE COMMUNITY HS</td>\n",
       "      <td>19.000000</td>\n",
       "      <td>21.000000</td>\n",
       "      <td>...</td>\n",
       "      <td>0</td>\n",
       "      <td>0</td>\n",
       "      <td>0</td>\n",
       "      <td>0</td>\n",
       "      <td>0</td>\n",
       "      <td>0</td>\n",
       "      <td>0</td>\n",
       "      <td>420 East 12 Street\\nNew York, NY 10009\\n(40.72...</td>\n",
       "      <td>40.729783</td>\n",
       "      <td>-73.983041</td>\n",
       "    </tr>\n",
       "    <tr>\n",
       "      <th>3</th>\n",
       "      <td>01M509</td>\n",
       "      <td>MARTA VALLE HIGH SCHOOL</td>\n",
       "      <td>44</td>\n",
       "      <td>390.0</td>\n",
       "      <td>433.0</td>\n",
       "      <td>384.0</td>\n",
       "      <td>1207.0</td>\n",
       "      <td>0</td>\n",
       "      <td>129.028846</td>\n",
       "      <td>197.038462</td>\n",
       "      <td>...</td>\n",
       "      <td>0</td>\n",
       "      <td>0</td>\n",
       "      <td>0</td>\n",
       "      <td>0</td>\n",
       "      <td>0</td>\n",
       "      <td>0</td>\n",
       "      <td>0</td>\n",
       "      <td>145 Stanton Street\\nNew York, NY 10002\\n(40.72...</td>\n",
       "      <td>40.720569</td>\n",
       "      <td>-73.985673</td>\n",
       "    </tr>\n",
       "    <tr>\n",
       "      <th>4</th>\n",
       "      <td>01M539</td>\n",
       "      <td>NEW EXPLORATIONS INTO SCIENCE, TECHNOLOGY AND ...</td>\n",
       "      <td>159</td>\n",
       "      <td>522.0</td>\n",
       "      <td>574.0</td>\n",
       "      <td>525.0</td>\n",
       "      <td>1621.0</td>\n",
       "      <td>NEW EXPLORATIONS SCI,TECH,MATH</td>\n",
       "      <td>255.000000</td>\n",
       "      <td>377.000000</td>\n",
       "      <td>...</td>\n",
       "      <td>0</td>\n",
       "      <td>0</td>\n",
       "      <td>0</td>\n",
       "      <td>0</td>\n",
       "      <td>0</td>\n",
       "      <td>0</td>\n",
       "      <td>0</td>\n",
       "      <td>111 Columbia Street\\nNew York, NY 10002\\n(40.7...</td>\n",
       "      <td>40.718725</td>\n",
       "      <td>-73.979426</td>\n",
       "    </tr>\n",
       "  </tbody>\n",
       "</table>\n",
       "<p>5 rows × 159 columns</p>\n",
       "</div>"
      ],
      "text/plain": [
       "      DBN                                        SCHOOL NAME  \\\n",
       "0  01M292      HENRY STREET SCHOOL FOR INTERNATIONAL STUDIES   \n",
       "1  01M448                UNIVERSITY NEIGHBORHOOD HIGH SCHOOL   \n",
       "2  01M450                         EAST SIDE COMMUNITY SCHOOL   \n",
       "3  01M509                            MARTA VALLE HIGH SCHOOL   \n",
       "4  01M539  NEW EXPLORATIONS INTO SCIENCE, TECHNOLOGY AND ...   \n",
       "\n",
       "  Num of SAT Test Takers  SAT Critical Reading Avg. Score  \\\n",
       "0                     29                            355.0   \n",
       "1                     91                            383.0   \n",
       "2                     70                            377.0   \n",
       "3                     44                            390.0   \n",
       "4                    159                            522.0   \n",
       "\n",
       "   SAT Math Avg. Score  SAT Writing Avg. Score  sat_score  \\\n",
       "0                404.0                   363.0     1122.0   \n",
       "1                423.0                   366.0     1172.0   \n",
       "2                402.0                   370.0     1149.0   \n",
       "3                433.0                   384.0     1207.0   \n",
       "4                574.0                   525.0     1621.0   \n",
       "\n",
       "                       SchoolName  AP Test Takers   Total Exams Taken  ...  \\\n",
       "0                               0       129.028846         197.038462  ...   \n",
       "1    UNIVERSITY NEIGHBORHOOD H.S.        39.000000          49.000000  ...   \n",
       "2          EAST SIDE COMMUNITY HS        19.000000          21.000000  ...   \n",
       "3                               0       129.028846         197.038462  ...   \n",
       "4  NEW EXPLORATIONS SCI,TECH,MATH       255.000000         377.000000  ...   \n",
       "\n",
       "                                priority04                       priority05  \\\n",
       "0  Then to Manhattan students or residents  Then to New York City residents   \n",
       "1                                        0                                0   \n",
       "2                                        0                                0   \n",
       "3                                        0                                0   \n",
       "4                                        0                                0   \n",
       "\n",
       "  priority06 priority07  priority08 priority09 priority10  \\\n",
       "0          0          0           0          0          0   \n",
       "1          0          0           0          0          0   \n",
       "2          0          0           0          0          0   \n",
       "3          0          0           0          0          0   \n",
       "4          0          0           0          0          0   \n",
       "\n",
       "                                          Location 1        lat        lon  \n",
       "0  220 Henry Street\\nNew York, NY 10002\\n(40.7137...  40.713764 -73.985260  \n",
       "1  200 Monroe Street\\nNew York, NY 10002\\n(40.712...  40.712332 -73.984797  \n",
       "2  420 East 12 Street\\nNew York, NY 10009\\n(40.72...  40.729783 -73.983041  \n",
       "3  145 Stanton Street\\nNew York, NY 10002\\n(40.72...  40.720569 -73.985673  \n",
       "4  111 Columbia Street\\nNew York, NY 10002\\n(40.7...  40.718725 -73.979426  \n",
       "\n",
       "[5 rows x 159 columns]"
      ]
     },
     "execution_count": 11,
     "metadata": {},
     "output_type": "execute_result"
    }
   ],
   "source": [
    "# start with 'sat_results' \n",
    "\n",
    "combined = data[\"sat_results\"]\n",
    "\n",
    "# left join to preserve as many rows as possible from this 'sat_results' - \n",
    "# 'ap_2010' and 'graduation' contain considerably less DBN values\n",
    "\n",
    "combined = combined.merge(data['ap_2010'], on='DBN', how='left')\n",
    "combined = combined.merge(data['graduation'], on='DBN', how='left')\n",
    "\n",
    "to_merge = ['class_size', 'demographics', 'survey', 'hs_directory']\n",
    "\n",
    "# inner join to link closely matching data\n",
    "\n",
    "for tm in to_merge:\n",
    "    combined = combined.merge(data[tm], on='DBN', how='inner')\n",
    "\n",
    "    \n",
    "# fill missing data with mean value for each column, or 0 where no values exist\n",
    "\n",
    "combined = combined.fillna(combined.mean())\n",
    "combined = combined.fillna(0)\n",
    "combined.head()"
   ]
  },
  {
   "cell_type": "markdown",
   "metadata": {},
   "source": [
    "## Adding school district column"
   ]
  },
  {
   "cell_type": "markdown",
   "metadata": {},
   "source": [
    "To allow for mapping of schools by district. District is indicated by first two digits of the `DBN`."
   ]
  },
  {
   "cell_type": "code",
   "execution_count": 12,
   "metadata": {},
   "outputs": [],
   "source": [
    "combined['school_dist'] = combined['DBN'].apply(lambda dbn: dbn[0:2])\n",
    "# combined['school_dist'].head()"
   ]
  },
  {
   "cell_type": "markdown",
   "metadata": {},
   "source": [
    "## Calculating correlations for SAT score"
   ]
  },
  {
   "cell_type": "code",
   "execution_count": 13,
   "metadata": {},
   "outputs": [
    {
     "name": "stdout",
     "output_type": "stream",
     "text": [
      "sat_score                               1.000000\n",
      "SAT Writing Avg. Score                  0.987771\n",
      "SAT Critical Reading Avg. Score         0.986820\n",
      "SAT Math Avg. Score                     0.972643\n",
      "white_per                               0.620718\n",
      "asian_per                               0.570730\n",
      "AP Test Takers                          0.523140\n",
      "Total Exams Taken                       0.514333\n",
      "asian_num                               0.475445\n",
      "Number of Exams with scores 3 4 or 5    0.463245\n",
      "white_num                               0.449559\n",
      "N_s                                     0.423463\n",
      "N_p                                     0.421530\n",
      "total_students                          0.407827\n",
      "NUMBER OF STUDENTS / SEATS FILLED       0.394626\n",
      "female_num                              0.388631\n",
      "AVERAGE CLASS SIZE                      0.381014\n",
      "total_enrollment                        0.367857\n",
      "NUMBER OF SECTIONS                      0.362673\n",
      "aca_s_11                                0.339435\n",
      "saf_s_11                                0.337639\n",
      "male_num                                0.325520\n",
      "Total Cohort                            0.325144\n",
      "saf_tot_11                              0.318753\n",
      "SIZE OF LARGEST CLASS                   0.314434\n",
      "saf_t_11                                0.313810\n",
      "N_t                                     0.291463\n",
      "SIZE OF SMALLEST CLASS                  0.249949\n",
      "rr_s                                    0.232199\n",
      "eng_s_11                                0.213822\n",
      "aca_tot_11                              0.190966\n",
      "com_s_11                                0.187370\n",
      "aca_t_11                                0.132348\n",
      "saf_p_11                                0.122913\n",
      "number_programs                         0.117012\n",
      "female_per                              0.112108\n",
      "eng_tot_11                              0.100102\n",
      "com_t_11                                0.082419\n",
      "com_tot_11                              0.077310\n",
      "rr_p                                    0.047925\n",
      "CSD                                     0.042948\n",
      "eng_t_11                                0.036906\n",
      "aca_p_11                                0.035155\n",
      "sped_num                                0.034933\n",
      "black_num                               0.027979\n",
      "hispanic_num                            0.025744\n",
      "eng_p_11                                0.020254\n",
      "rr_t                                   -0.023386\n",
      "zip                                    -0.063977\n",
      "male_per                               -0.112062\n",
      "com_p_11                               -0.115073\n",
      "lat                                    -0.121029\n",
      "lon                                    -0.132222\n",
      "ell_num                                -0.153778\n",
      "black_per                              -0.284139\n",
      "hispanic_per                           -0.396985\n",
      "ell_percent                            -0.398750\n",
      "sped_percent                           -0.448170\n",
      "frl_percent                            -0.722225\n",
      "SCHOOLWIDE PUPIL-TEACHER RATIO               NaN\n",
      "schoolyear                                   NaN\n",
      "fl_percent                                   NaN\n",
      "grade_span_max                               NaN\n",
      "expgrade_span_max                            NaN\n",
      "priority08                                   NaN\n",
      "priority09                                   NaN\n",
      "priority10                                   NaN\n"
     ]
    }
   ],
   "source": [
    "correlations = combined.corr()\n",
    "correlations = correlations['sat_score']\n",
    "print(correlations.sort_values(ascending=False).to_string())"
   ]
  },
  {
   "cell_type": "markdown",
   "metadata": {},
   "source": [
    "Some initial observations:\n",
    "- significant racial inequality - high positive correlation with `white_per` and `asian_per`; high negative correlation with `black_per` and `hispanic_per`.\n",
    "<br><br>\n",
    "- variables indicating higher enrollment correlate positively, suggesting that larger schools tend to perform better on SAT (`total_enrollment`, `N_s`, `N_p`, `N_t`, `AP Test Takers`, `Total Exams Taken`)\n",
    "<br><br>\n",
    "- suggestion that females may perform better than males (positive correlation with `female_per` while negative correlation with `male_per`)"
   ]
  },
  {
   "cell_type": "markdown",
   "metadata": {},
   "source": [
    "## Plotting survey correlations"
   ]
  },
  {
   "cell_type": "code",
   "execution_count": 14,
   "metadata": {},
   "outputs": [
    {
     "data": {
      "text/plain": [
       "<matplotlib.axes._subplots.AxesSubplot at 0x11c695190>"
      ]
     },
     "execution_count": 14,
     "metadata": {},
     "output_type": "execute_result"
    },
    {
     "data": {
      "image/png": "[encoded data removed]",
      "text/plain": [
       "<Figure size 432x288 with 1 Axes>"
      ]
     },
     "metadata": {
      "needs_background": "light"
     },
     "output_type": "display_data"
    }
   ],
   "source": [
    "# Remove DBN since it's a unique identifier, not a useful numerical value for correlation.\n",
    "\n",
    "survey_fields.remove(\"DBN\")\n",
    "correlations[survey_fields].plot.bar()"
   ]
  },
  {
   "cell_type": "markdown",
   "metadata": {},
   "source": [
    "- As expected, factors indicating higher levels of enrollment (`N_s`, `N_t`, `N_p`) have a high positive correlation with SAT scores.\n",
    "<br><br>\n",
    "- Both students' and teachers' opinions on safety and respect at school (`saf_s_11`, `saf_t_11`) had a high positive correlation, with those of parents' (`saf_p_11`) less so.\n",
    "<br><br>\n",
    "- Interesting that higher SAT scores were achieved at schools where the students expected to perform well (`aca_s_11`), while the academic expectations of parents and teachers (`aca_p_11`, `aca_t_11`) had a significantly lower correlation."
   ]
  },
  {
   "cell_type": "markdown",
   "metadata": {},
   "source": [
    "## Investigating safety scores"
   ]
  },
  {
   "cell_type": "code",
   "execution_count": 15,
   "metadata": {},
   "outputs": [
    {
     "data": {
      "text/plain": [
       "<matplotlib.axes._subplots.AxesSubplot at 0x11c666c10>"
      ]
     },
     "execution_count": 15,
     "metadata": {},
     "output_type": "execute_result"
    },
    {
     "data": {
      "image/png": "[encoded data removed]",
      "text/plain": [
       "<Figure size 432x288 with 1 Axes>"
      ]
     },
     "metadata": {
      "needs_background": "light"
     },
     "output_type": "display_data"
    }
   ],
   "source": [
    "combined.plot.scatter(x='saf_s_11', y='sat_score')"
   ]
  },
  {
   "cell_type": "markdown",
   "metadata": {},
   "source": [
    "The plot shows some correlation between SAT scores and safety, although not that strong. Of the schools that have a high safety score (above 8), some also achieved high SAT scores, while others performed relatively poorly. The majority of schools have a safety rating below 7, and virtually all of these schools scored below 1600 in the SAT."
   ]
  },
  {
   "cell_type": "code",
   "execution_count": 16,
   "metadata": {},
   "outputs": [
    {
     "data": {
      "text/html": [
       "<div>\n",
       "<style scoped>\n",
       "    .dataframe tbody tr th:only-of-type {\n",
       "        vertical-align: middle;\n",
       "    }\n",
       "\n",
       "    .dataframe tbody tr th {\n",
       "        vertical-align: top;\n",
       "    }\n",
       "\n",
       "    .dataframe thead th {\n",
       "        text-align: right;\n",
       "    }\n",
       "</style>\n",
       "<table border=\"1\" class=\"dataframe\">\n",
       "  <thead>\n",
       "    <tr style=\"text-align: right;\">\n",
       "      <th></th>\n",
       "      <th>school_dist</th>\n",
       "      <th>SAT Critical Reading Avg. Score</th>\n",
       "      <th>SAT Math Avg. Score</th>\n",
       "      <th>SAT Writing Avg. Score</th>\n",
       "      <th>sat_score</th>\n",
       "      <th>AP Test Takers</th>\n",
       "      <th>Total Exams Taken</th>\n",
       "      <th>Number of Exams with scores 3 4 or 5</th>\n",
       "      <th>Total Cohort</th>\n",
       "      <th>CSD</th>\n",
       "      <th>...</th>\n",
       "      <th>grade_span_max</th>\n",
       "      <th>expgrade_span_max</th>\n",
       "      <th>zip</th>\n",
       "      <th>total_students</th>\n",
       "      <th>number_programs</th>\n",
       "      <th>priority08</th>\n",
       "      <th>priority09</th>\n",
       "      <th>priority10</th>\n",
       "      <th>lat</th>\n",
       "      <th>lon</th>\n",
       "    </tr>\n",
       "  </thead>\n",
       "  <tbody>\n",
       "    <tr>\n",
       "      <th>0</th>\n",
       "      <td>01</td>\n",
       "      <td>441.833333</td>\n",
       "      <td>473.333333</td>\n",
       "      <td>439.333333</td>\n",
       "      <td>1354.500000</td>\n",
       "      <td>116.681090</td>\n",
       "      <td>173.019231</td>\n",
       "      <td>135.800000</td>\n",
       "      <td>93.500000</td>\n",
       "      <td>1.0</td>\n",
       "      <td>...</td>\n",
       "      <td>12.0</td>\n",
       "      <td>12.0</td>\n",
       "      <td>10003.166667</td>\n",
       "      <td>659.500000</td>\n",
       "      <td>1.333333</td>\n",
       "      <td>0.0</td>\n",
       "      <td>0.0</td>\n",
       "      <td>0.0</td>\n",
       "      <td>40.719022</td>\n",
       "      <td>-73.982377</td>\n",
       "    </tr>\n",
       "    <tr>\n",
       "      <th>1</th>\n",
       "      <td>02</td>\n",
       "      <td>426.619092</td>\n",
       "      <td>444.186256</td>\n",
       "      <td>424.832836</td>\n",
       "      <td>1295.638184</td>\n",
       "      <td>128.908454</td>\n",
       "      <td>201.516827</td>\n",
       "      <td>157.495833</td>\n",
       "      <td>158.647849</td>\n",
       "      <td>2.0</td>\n",
       "      <td>...</td>\n",
       "      <td>12.0</td>\n",
       "      <td>12.0</td>\n",
       "      <td>10023.770833</td>\n",
       "      <td>621.395833</td>\n",
       "      <td>1.416667</td>\n",
       "      <td>0.0</td>\n",
       "      <td>0.0</td>\n",
       "      <td>0.0</td>\n",
       "      <td>40.739699</td>\n",
       "      <td>-73.991386</td>\n",
       "    </tr>\n",
       "    <tr>\n",
       "      <th>2</th>\n",
       "      <td>03</td>\n",
       "      <td>428.529851</td>\n",
       "      <td>437.997512</td>\n",
       "      <td>426.915672</td>\n",
       "      <td>1293.443035</td>\n",
       "      <td>156.183494</td>\n",
       "      <td>244.522436</td>\n",
       "      <td>193.087500</td>\n",
       "      <td>183.384409</td>\n",
       "      <td>3.0</td>\n",
       "      <td>...</td>\n",
       "      <td>12.0</td>\n",
       "      <td>12.0</td>\n",
       "      <td>10023.750000</td>\n",
       "      <td>717.916667</td>\n",
       "      <td>2.000000</td>\n",
       "      <td>0.0</td>\n",
       "      <td>0.0</td>\n",
       "      <td>0.0</td>\n",
       "      <td>40.781574</td>\n",
       "      <td>-73.977370</td>\n",
       "    </tr>\n",
       "    <tr>\n",
       "      <th>3</th>\n",
       "      <td>04</td>\n",
       "      <td>402.142857</td>\n",
       "      <td>416.285714</td>\n",
       "      <td>405.714286</td>\n",
       "      <td>1224.142857</td>\n",
       "      <td>129.016484</td>\n",
       "      <td>183.879121</td>\n",
       "      <td>151.035714</td>\n",
       "      <td>113.857143</td>\n",
       "      <td>4.0</td>\n",
       "      <td>...</td>\n",
       "      <td>12.0</td>\n",
       "      <td>12.0</td>\n",
       "      <td>10029.857143</td>\n",
       "      <td>580.857143</td>\n",
       "      <td>1.142857</td>\n",
       "      <td>0.0</td>\n",
       "      <td>0.0</td>\n",
       "      <td>0.0</td>\n",
       "      <td>40.793449</td>\n",
       "      <td>-73.943215</td>\n",
       "    </tr>\n",
       "    <tr>\n",
       "      <th>4</th>\n",
       "      <td>05</td>\n",
       "      <td>427.159915</td>\n",
       "      <td>438.236674</td>\n",
       "      <td>419.666098</td>\n",
       "      <td>1285.062687</td>\n",
       "      <td>85.722527</td>\n",
       "      <td>115.725275</td>\n",
       "      <td>142.464286</td>\n",
       "      <td>143.677419</td>\n",
       "      <td>5.0</td>\n",
       "      <td>...</td>\n",
       "      <td>12.0</td>\n",
       "      <td>12.0</td>\n",
       "      <td>10030.142857</td>\n",
       "      <td>609.857143</td>\n",
       "      <td>1.142857</td>\n",
       "      <td>0.0</td>\n",
       "      <td>0.0</td>\n",
       "      <td>0.0</td>\n",
       "      <td>40.817077</td>\n",
       "      <td>-73.949251</td>\n",
       "    </tr>\n",
       "  </tbody>\n",
       "</table>\n",
       "<p>5 rows × 68 columns</p>\n",
       "</div>"
      ],
      "text/plain": [
       "  school_dist  SAT Critical Reading Avg. Score  SAT Math Avg. Score  \\\n",
       "0          01                       441.833333           473.333333   \n",
       "1          02                       426.619092           444.186256   \n",
       "2          03                       428.529851           437.997512   \n",
       "3          04                       402.142857           416.285714   \n",
       "4          05                       427.159915           438.236674   \n",
       "\n",
       "   SAT Writing Avg. Score    sat_score  AP Test Takers   Total Exams Taken  \\\n",
       "0              439.333333  1354.500000       116.681090         173.019231   \n",
       "1              424.832836  1295.638184       128.908454         201.516827   \n",
       "2              426.915672  1293.443035       156.183494         244.522436   \n",
       "3              405.714286  1224.142857       129.016484         183.879121   \n",
       "4              419.666098  1285.062687        85.722527         115.725275   \n",
       "\n",
       "   Number of Exams with scores 3 4 or 5  Total Cohort  CSD  ...  \\\n",
       "0                            135.800000     93.500000  1.0  ...   \n",
       "1                            157.495833    158.647849  2.0  ...   \n",
       "2                            193.087500    183.384409  3.0  ...   \n",
       "3                            151.035714    113.857143  4.0  ...   \n",
       "4                            142.464286    143.677419  5.0  ...   \n",
       "\n",
       "   grade_span_max  expgrade_span_max           zip  total_students  \\\n",
       "0            12.0               12.0  10003.166667      659.500000   \n",
       "1            12.0               12.0  10023.770833      621.395833   \n",
       "2            12.0               12.0  10023.750000      717.916667   \n",
       "3            12.0               12.0  10029.857143      580.857143   \n",
       "4            12.0               12.0  10030.142857      609.857143   \n",
       "\n",
       "   number_programs  priority08  priority09  priority10        lat        lon  \n",
       "0         1.333333         0.0         0.0         0.0  40.719022 -73.982377  \n",
       "1         1.416667         0.0         0.0         0.0  40.739699 -73.991386  \n",
       "2         2.000000         0.0         0.0         0.0  40.781574 -73.977370  \n",
       "3         1.142857         0.0         0.0         0.0  40.793449 -73.943215  \n",
       "4         1.142857         0.0         0.0         0.0  40.817077 -73.949251  \n",
       "\n",
       "[5 rows x 68 columns]"
      ]
     },
     "execution_count": 16,
     "metadata": {},
     "output_type": "execute_result"
    }
   ],
   "source": [
    "# calculate the average scores for each district\n",
    "\n",
    "districts = combined.groupby('school_dist').agg(np.mean)\n",
    "districts.reset_index(inplace=True)\n",
    "districts.head()"
   ]
  },
  {
   "cell_type": "code",
   "execution_count": 17,
   "metadata": {},
   "outputs": [
    {
     "name": "stderr",
     "output_type": "stream",
     "text": [
      "/Users/keiran/anaconda3/envs/tf2/lib/python3.7/site-packages/ipykernel_launcher.py:12: MatplotlibDeprecationWarning: \n",
      "The dedent function was deprecated in Matplotlib 3.1 and will be removed in 3.3. Use inspect.cleandoc instead.\n",
      "  if sys.path[0] == '':\n"
     ]
    },
    {
     "data": {
      "text/plain": [
       "<matplotlib.patches.Rectangle at 0x11d5fa990>"
      ]
     },
     "execution_count": 17,
     "metadata": {},
     "output_type": "execute_result"
    },
    {
     "data": {
      "text/plain": [
       "<matplotlib.collections.LineCollection at 0x11c6caf50>"
      ]
     },
     "execution_count": 17,
     "metadata": {},
     "output_type": "execute_result"
    },
    {
     "name": "stderr",
     "output_type": "stream",
     "text": [
      "/Users/keiran/anaconda3/envs/tf2/lib/python3.7/site-packages/ipykernel_launcher.py:17: MatplotlibDeprecationWarning: \n",
      "The dedent function was deprecated in Matplotlib 3.1 and will be removed in 3.3. Use inspect.cleandoc instead.\n"
     ]
    },
    {
     "data": {
      "text/plain": [
       "<matplotlib.collections.LineCollection at 0x11d55ea90>"
      ]
     },
     "execution_count": 17,
     "metadata": {},
     "output_type": "execute_result"
    },
    {
     "data": {
      "text/plain": [
       "[<matplotlib.patches.Polygon at 0x11d615990>,\n",
       " <matplotlib.patches.Polygon at 0x11d615710>,\n",
       " <matplotlib.patches.Polygon at 0x11d615a50>,\n",
       " <matplotlib.patches.Polygon at 0x11d620710>]"
      ]
     },
     "execution_count": 17,
     "metadata": {},
     "output_type": "execute_result"
    },
    {
     "data": {
      "text/plain": [
       "<matplotlib.collections.PathCollection at 0x11d6202d0>"
      ]
     },
     "execution_count": 17,
     "metadata": {},
     "output_type": "execute_result"
    },
    {
     "data": {
      "image/png": "[encoded data removed]",
      "text/plain": [
       "<Figure size 432x288 with 1 Axes>"
      ]
     },
     "metadata": {},
     "output_type": "display_data"
    }
   ],
   "source": [
    "import matplotlib.pyplot as plt\n",
    "from mpl_toolkits.basemap import Basemap\n",
    "\n",
    "# plot \n",
    "\n",
    "m = Basemap(\n",
    "    projection='merc', \n",
    "    llcrnrlat=40.496044, \n",
    "    urcrnrlat=40.915256, \n",
    "    llcrnrlon=-74.255735, \n",
    "    urcrnrlon=-73.700272,\n",
    "    resolution='i'\n",
    ")\n",
    "\n",
    "m.drawmapboundary(fill_color='#85A6D9')\n",
    "m.drawcoastlines(color='#6D5F47', linewidth=.4)\n",
    "m.drawrivers(color='#6D5F47', linewidth=.4)\n",
    "m.fillcontinents(color='white', lake_color='#85A6D9')\n",
    "\n",
    "longitudes = districts['lon'].tolist()\n",
    "latitudes = districts['lat'].tolist()\n",
    "\n",
    "m.scatter(x=longitudes, y=latitudes, s=20, zorder=2, latlon=True, c=districts['saf_s_11'], cmap='summer')\n",
    "plt.show()"
   ]
  },
  {
   "cell_type": "markdown",
   "metadata": {},
   "source": [
    "In general it appears that Manhattan, Queens and the Bronx tend to have higher safety scores, while Brooklyn has lower safety scores."
   ]
  },
  {
   "cell_type": "markdown",
   "metadata": {},
   "source": [
    "## Investigating racial differences in SAT scores"
   ]
  },
  {
   "cell_type": "code",
   "execution_count": 18,
   "metadata": {},
   "outputs": [
    {
     "data": {
      "text/plain": [
       "<matplotlib.axes._subplots.AxesSubplot at 0x11d620d90>"
      ]
     },
     "execution_count": 18,
     "metadata": {},
     "output_type": "execute_result"
    },
    {
     "data": {
      "image/png": "[encoded data removed]",
      "text/plain": [
       "<Figure size 432x288 with 1 Axes>"
      ]
     },
     "metadata": {
      "needs_background": "light"
     },
     "output_type": "display_data"
    }
   ],
   "source": [
    "race_fields = ['white_per', 'asian_per', 'black_per', 'hispanic_per']\n",
    "correlations[race_fields].plot.bar()"
   ]
  },
  {
   "cell_type": "markdown",
   "metadata": {},
   "source": [
    "We can observe a clear disparity between races:\n",
    "- the percentage of white and asian students correlates very strongly with higher SAT scores\n",
    "- the percentage of black and hispanic students correlates with lower SAT scores"
   ]
  },
  {
   "cell_type": "code",
   "execution_count": 19,
   "metadata": {},
   "outputs": [
    {
     "data": {
      "text/plain": [
       "<matplotlib.axes._subplots.AxesSubplot at 0x11d56a710>"
      ]
     },
     "execution_count": 19,
     "metadata": {},
     "output_type": "execute_result"
    },
    {
     "data": {
      "image/png": "[encoded data removed]",
      "text/plain": [
       "<Figure size 432x288 with 1 Axes>"
      ]
     },
     "metadata": {
      "needs_background": "light"
     },
     "output_type": "display_data"
    }
   ],
   "source": [
    "combined.plot.scatter(x='hispanic_per', y='sat_score')"
   ]
  },
  {
   "cell_type": "markdown",
   "metadata": {},
   "source": [
    "The plot shows a clear trend in SAT scores decreasing as percentage of hispanic students increases. The best performing schools had a very low percentage of hispanic students, while fully hispanic schools achieved some of the worst scores."
   ]
  },
  {
   "cell_type": "code",
   "execution_count": 20,
   "metadata": {},
   "outputs": [
    {
     "name": "stdout",
     "output_type": "stream",
     "text": [
      "44                         MANHATTAN BRIDGES HIGH SCHOOL\n",
      "82      WASHINGTON HEIGHTS EXPEDITIONARY LEARNING SCHOOL\n",
      "89     GREGORIO LUPERON HIGH SCHOOL FOR SCIENCE AND M...\n",
      "125                  ACADEMY FOR LANGUAGE AND TECHNOLOGY\n",
      "141                INTERNATIONAL SCHOOL FOR LIBERAL ARTS\n",
      "176     PAN AMERICAN INTERNATIONAL HIGH SCHOOL AT MONROE\n",
      "253                            MULTICULTURAL HIGH SCHOOL\n",
      "286               PAN AMERICAN INTERNATIONAL HIGH SCHOOL\n",
      "Name: SCHOOL NAME, dtype: object\n"
     ]
    }
   ],
   "source": [
    "# find the schools with >95% hispanic percentage\n",
    "\n",
    "print(combined[combined['hispanic_per'] > 95]['SCHOOL NAME'])"
   ]
  },
  {
   "cell_type": "markdown",
   "metadata": {},
   "source": [
    "Above is a list of schools with >95% hispanic students. Nearly all of them cater specifically for recently arrived Spanish speaking students, hence the high percentage."
   ]
  },
  {
   "cell_type": "code",
   "execution_count": 21,
   "metadata": {},
   "outputs": [
    {
     "name": "stdout",
     "output_type": "stream",
     "text": [
      "37                                STUYVESANT HIGH SCHOOL\n",
      "151                         BRONX HIGH SCHOOL OF SCIENCE\n",
      "187                       BROOKLYN TECHNICAL HIGH SCHOOL\n",
      "327    QUEENS HIGH SCHOOL FOR THE SCIENCES AT YORK CO...\n",
      "356                  STATEN ISLAND TECHNICAL HIGH SCHOOL\n",
      "Name: SCHOOL NAME, dtype: object\n"
     ]
    }
   ],
   "source": [
    "# find schools with <10% hispanic percentage and >1800 SAT score\n",
    "\n",
    "print(combined[(combined['hispanic_per'] < 10) & (combined['sat_score'] > 1800)]['SCHOOL NAME'])"
   ]
  },
  {
   "cell_type": "markdown",
   "metadata": {},
   "source": [
    "Above is a list of schools with a hispanic student percentage of less than 10% that achieved a SAT score greater than 1800. All of them have highly competitive entry and offer specialised technical courses with advanced college placement and research opportunities. "
   ]
  },
  {
   "cell_type": "markdown",
   "metadata": {},
   "source": [
    "## Investigating gender differences in SAT scores"
   ]
  },
  {
   "cell_type": "code",
   "execution_count": 22,
   "metadata": {},
   "outputs": [
    {
     "data": {
      "text/plain": [
       "<matplotlib.axes._subplots.AxesSubplot at 0x11d56ae50>"
      ]
     },
     "execution_count": 22,
     "metadata": {},
     "output_type": "execute_result"
    },
    {
     "data": {
      "image/png": "[encoded data removed]",
      "text/plain": [
       "<Figure size 432x288 with 1 Axes>"
      ]
     },
     "metadata": {
      "needs_background": "light"
     },
     "output_type": "display_data"
    }
   ],
   "source": [
    "gender_fields = ['male_per', 'female_per']\n",
    "correlations[gender_fields].plot.bar()"
   ]
  },
  {
   "cell_type": "markdown",
   "metadata": {},
   "source": [
    "The chart shows a positive correlation between percentage of female students and SAT score, and a negative correlation between percentage of male students and SAT score. Both are relatively weak."
   ]
  },
  {
   "cell_type": "code",
   "execution_count": 23,
   "metadata": {},
   "outputs": [
    {
     "data": {
      "text/plain": [
       "<matplotlib.axes._subplots.AxesSubplot at 0x11d7c0b50>"
      ]
     },
     "execution_count": 23,
     "metadata": {},
     "output_type": "execute_result"
    },
    {
     "data": {
      "image/png": "[encoded data removed]",
      "text/plain": [
       "<Figure size 432x288 with 1 Axes>"
      ]
     },
     "metadata": {
      "needs_background": "light"
     },
     "output_type": "display_data"
    }
   ],
   "source": [
    "combined.plot.scatter(x='female_per', y='sat_score')"
   ]
  },
  {
   "cell_type": "markdown",
   "metadata": {},
   "source": [
    "The plot shows an upward trend in SAT scores for some higher performing schools as percentage of female students increases, although its interesting to note that of all the schools with scores above 1800, almost 80% had less than a 50% share of female students.\n",
    "The five schools with 100% female student percentage all scored around average (1223)."
   ]
  },
  {
   "cell_type": "code",
   "execution_count": null,
   "metadata": {},
   "outputs": [],
   "source": []
  },
  {
   "cell_type": "code",
   "execution_count": 24,
   "metadata": {},
   "outputs": [
    {
     "name": "stdout",
     "output_type": "stream",
     "text": [
      "5                         BARD HIGH SCHOOL EARLY COLLEGE\n",
      "26                         ELEANOR ROOSEVELT HIGH SCHOOL\n",
      "60                                    BEACON HIGH SCHOOL\n",
      "61     FIORELLO H. LAGUARDIA HIGH SCHOOL OF MUSIC & A...\n",
      "302                          TOWNSEND HARRIS HIGH SCHOOL\n",
      "Name: SCHOOL NAME, dtype: object\n"
     ]
    }
   ],
   "source": [
    "# find schools with >60% female_per and sat_score > 1700\n",
    "\n",
    "print(combined[(combined['female_per'] > 60) & (combined['sat_score'] > 1700)]['SCHOOL NAME'])"
   ]
  },
  {
   "cell_type": "markdown",
   "metadata": {},
   "source": [
    "Listed above are the schools with a percentage of female students over 60% that scored higher than 1700 in the SAT. A feature common among all is academically challenging coursework with high quality instruction. Bard High School and Eleanor Roosevelt High School focus on college preparation, with two years of study potentially counting towards college credit in the case of Bard. Beacon High School and Fiorello H. LaGuardia High School have a strong focus on arts, with LaGuardia offering 2-3 hours per day of arts specialisation - this may explain the higher percentage of female students. "
   ]
  },
  {
   "cell_type": "markdown",
   "metadata": {},
   "source": [
    "## Investigating the relationship between AP scores and SAT scores"
   ]
  },
  {
   "cell_type": "code",
   "execution_count": 25,
   "metadata": {},
   "outputs": [],
   "source": [
    "# calculate percentage of students that took at least one AP test\n",
    "\n",
    "combined['ap_per'] = combined['AP Test Takers '] / combined['total_enrollment']"
   ]
  },
  {
   "cell_type": "code",
   "execution_count": 26,
   "metadata": {},
   "outputs": [
    {
     "data": {
      "text/plain": [
       "<matplotlib.axes._subplots.AxesSubplot at 0x11daeae50>"
      ]
     },
     "execution_count": 26,
     "metadata": {},
     "output_type": "execute_result"
    },
    {
     "data": {
      "image/png": "[encoded data removed]",
      "text/plain": [
       "<Figure size 432x288 with 1 Axes>"
      ]
     },
     "metadata": {
      "needs_background": "light"
     },
     "output_type": "display_data"
    }
   ],
   "source": [
    "combined.plot.scatter(x='ap_per', y='sat_score')"
   ]
  },
  {
   "cell_type": "markdown",
   "metadata": {},
   "source": [
    "The plot shows a somewhat weak positive correlation between the percentage of students that took an AP test and SAT scores. "
   ]
  },
  {
   "cell_type": "markdown",
   "metadata": {},
   "source": [
    "## Investigating the relationship between class size and SAT scores"
   ]
  },
  {
   "cell_type": "code",
   "execution_count": 27,
   "metadata": {},
   "outputs": [
    {
     "data": {
      "text/plain": [
       "<matplotlib.axes._subplots.AxesSubplot at 0x11da9da10>"
      ]
     },
     "execution_count": 27,
     "metadata": {},
     "output_type": "execute_result"
    },
    {
     "data": {
      "image/png": "[encoded data removed]",
      "text/plain": [
       "<Figure size 432x288 with 1 Axes>"
      ]
     },
     "metadata": {
      "needs_background": "light"
     },
     "output_type": "display_data"
    }
   ],
   "source": [
    "combined.plot.scatter(x='AVERAGE CLASS SIZE', y='sat_score')"
   ]
  },
  {
   "cell_type": "markdown",
   "metadata": {},
   "source": [
    "There appears to be a significant positive correlation between class size and SAT scores. This is somewhat counter-intuitive, as one might expect that smaller classes would lead to increased teacher attention per student."
   ]
  }
 ],
 "metadata": {
  "kernelspec": {
   "display_name": "Python 3",
   "language": "python",
   "name": "python3"
  },
  "language_info": {
   "codemirror_mode": {
    "name": "ipython",
    "version": 3
   },
   "file_extension": ".py",
   "mimetype": "text/x-python",
   "name": "python",
   "nbconvert_exporter": "python",
   "pygments_lexer": "ipython3",
   "version": "3.7.6"
  }
 },
 "nbformat": 4,
 "nbformat_minor": 4
}
